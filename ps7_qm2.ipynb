{
 "cells": [
  {
   "cell_type": "markdown",
   "metadata": {},
   "source": [
    "# QM2 PS7.1"
   ]
  },
  {
   "cell_type": "code",
   "execution_count": 28,
   "metadata": {
    "collapsed": false
   },
   "outputs": [],
   "source": [
    "import numpy as np\n",
    "from sympy import Matrix, sqrt, init_printing, symbols, sin,cos, evalf\n",
    "init_printing(use_unicode=True)"
   ]
  },
  {
   "cell_type": "code",
   "execution_count": 2,
   "metadata": {
    "collapsed": false
   },
   "outputs": [],
   "source": [
    "hbar, phi, theta = symbols(\"hbar phi theta\")\n",
    "\n",
    "S_x = Matrix([[0,1],[1,0]]) * hbar/2\n",
    "S_y = Matrix([[0,-1j],[1j,0]]) * hbar/2\n",
    "S_z = Matrix([[1,0],[0,-1]]) * hbar/2\n",
    "\n",
    "S_phi = -sin(phi)*S_x + cos(phi)*S_y\n",
    "\n",
    "S_n = sin(theta)*cos(phi)*S_x + sin(theta)*sin(phi)*S_y + cos(theta)*S_z"
   ]
  },
  {
   "cell_type": "code",
   "execution_count": 3,
   "metadata": {
    "collapsed": false
   },
   "outputs": [
    {
     "data": {
      "image/png": "[encoded data removed]",
      "text/latex": [
       "$$\\left[\\begin{matrix}\\frac{\\hbar}{2} \\cos{\\left (\\theta \\right )} & - 0.5 i \\hbar \\sin{\\left (\\phi \\right )} \\sin{\\left (\\theta \\right )} + \\frac{\\hbar}{2} \\sin{\\left (\\theta \\right )} \\cos{\\left (\\phi \\right )}\\\\0.5 i \\hbar \\sin{\\left (\\phi \\right )} \\sin{\\left (\\theta \\right )} + \\frac{\\hbar}{2} \\sin{\\left (\\theta \\right )} \\cos{\\left (\\phi \\right )} & - \\frac{\\hbar}{2} \\cos{\\left (\\theta \\right )}\\end{matrix}\\right]$$"
      ],
      "text/plain": [
       "⎡                h̅⋅cos(θ)                                            h̅⋅sin(θ\n",
       "⎢                ─────────                  -0.5⋅ⅈ⋅h̅⋅sin(φ)⋅sin(θ) + ────────\n",
       "⎢                    2                                                       2\n",
       "⎢                                                                             \n",
       "⎢                         h̅⋅sin(θ)⋅cos(φ)                 -h̅⋅cos(θ)         \n",
       "⎢0.5⋅ⅈ⋅h̅⋅sin(φ)⋅sin(θ) + ────────────────                 ───────────        \n",
       "⎣                                2                              2             \n",
       "\n",
       ")⋅cos(φ)⎤\n",
       "────────⎥\n",
       "        ⎥\n",
       "        ⎥\n",
       "        ⎥\n",
       "        ⎥\n",
       "        ⎦"
      ]
     },
     "execution_count": 3,
     "metadata": {},
     "output_type": "execute_result"
    }
   ],
   "source": [
    "S_n"
   ]
  },
  {
   "cell_type": "code",
   "execution_count": 4,
   "metadata": {
    "collapsed": false
   },
   "outputs": [
    {
     "data": {
      "image/png": "[encoded data removed]",
      "text/latex": [
       "$$\\left[\\begin{matrix}0 & - \\frac{\\hbar}{2} \\sin{\\left (\\phi \\right )} - 0.5 i \\hbar \\cos{\\left (\\phi \\right )}\\\\- \\frac{\\hbar}{2} \\sin{\\left (\\phi \\right )} + 0.5 i \\hbar \\cos{\\left (\\phi \\right )} & 0\\end{matrix}\\right]$$"
      ],
      "text/plain": [
       "⎡                                 h̅⋅sin(φ)                  ⎤\n",
       "⎢              0                - ───────── - 0.5⋅ⅈ⋅h̅⋅cos(φ)⎥\n",
       "⎢                                     2                      ⎥\n",
       "⎢                                                            ⎥\n",
       "⎢  h̅⋅sin(φ)                                                 ⎥\n",
       "⎢- ───────── + 0.5⋅ⅈ⋅h̅⋅cos(φ)                0              ⎥\n",
       "⎣      2                                                     ⎦"
      ]
     },
     "execution_count": 4,
     "metadata": {},
     "output_type": "execute_result"
    }
   ],
   "source": [
    "S_phi"
   ]
  },
  {
   "cell_type": "code",
   "execution_count": 5,
   "metadata": {
    "collapsed": false
   },
   "outputs": [
    {
     "data": {
      "image/png": "[encoded data removed]",
      "text/latex": [
       "$$\\left [ \\left ( - 0.5 \\hbar, \\quad 1, \\quad \\left [ \\left[\\begin{matrix}- \\frac{1}{\\hbar} \\left(- 1.0 \\hbar \\sin{\\left (\\phi \\right )} - 1.0 i \\hbar \\cos{\\left (\\phi \\right )}\\right)\\\\1.0\\end{matrix}\\right]\\right ]\\right ), \\quad \\left ( 0.5 \\hbar, \\quad 1, \\quad \\left [ \\left[\\begin{matrix}\\frac{1}{\\hbar} \\left(- 1.0 \\hbar \\sin{\\left (\\phi \\right )} - 1.0 i \\hbar \\cos{\\left (\\phi \\right )}\\right)\\\\1.0\\end{matrix}\\right]\\right ]\\right )\\right ]$$"
      ],
      "text/plain": [
       "⎡⎛            ⎡⎡-2.0⋅(-0.5⋅h̅⋅sin(φ) - 0.5⋅ⅈ⋅h̅⋅cos(φ)) ⎤⎤⎞  ⎛           ⎡⎡2.0\n",
       "⎢⎜-0.5⋅h̅, 1, ⎢⎢────────────────────────────────────────⎥⎥⎟, ⎜0.5⋅h̅, 1, ⎢⎢───\n",
       "⎢⎜            ⎢⎢                   h̅                   ⎥⎥⎟  ⎜           ⎢⎢   \n",
       "⎢⎜            ⎢⎢                                        ⎥⎥⎟  ⎜           ⎢⎢   \n",
       "⎣⎝            ⎣⎣                  1.0                   ⎦⎦⎠  ⎝           ⎣⎣   \n",
       "\n",
       "⋅(-0.5⋅h̅⋅sin(φ) - 0.5⋅ⅈ⋅h̅⋅cos(φ))⎤⎤⎞⎤\n",
       "───────────────────────────────────⎥⎥⎟⎥\n",
       "               h̅                  ⎥⎥⎟⎥\n",
       "                                   ⎥⎥⎟⎥\n",
       "              1.0                  ⎦⎦⎠⎦"
      ]
     },
     "execution_count": 5,
     "metadata": {},
     "output_type": "execute_result"
    }
   ],
   "source": [
    "S_phi.eigenvects()"
   ]
  },
  {
   "cell_type": "markdown",
   "metadata": {
    "collapsed": true
   },
   "source": [
    "# QM2 PS7.2"
   ]
  },
  {
   "cell_type": "code",
   "execution_count": 17,
   "metadata": {
    "collapsed": true
   },
   "outputs": [],
   "source": [
    "S_x = Matrix([[0,1,0],[1,0,1],[0,1,0]]) * hbar/sqrt(2)\n",
    "Psi = Matrix([[2],[2j],[-1]]) * 1/3"
   ]
  },
  {
   "cell_type": "code",
   "execution_count": 18,
   "metadata": {
    "collapsed": false
   },
   "outputs": [],
   "source": [
    "eig = S_x.eigenvects()"
   ]
  },
  {
   "cell_type": "code",
   "execution_count": 19,
   "metadata": {
    "collapsed": false
   },
   "outputs": [
    {
     "data": {
      "image/png": "[encoded data removed]",
      "text/latex": [
       "$$\\left [ \\left ( 0, \\quad 1, \\quad \\left [ \\left[\\begin{matrix}-1\\\\0\\\\1\\end{matrix}\\right]\\right ]\\right ), \\quad \\left ( - \\hbar, \\quad 1, \\quad \\left [ \\left[\\begin{matrix}1\\\\- \\sqrt{2}\\\\1\\end{matrix}\\right]\\right ]\\right ), \\quad \\left ( \\hbar, \\quad 1, \\quad \\left [ \\left[\\begin{matrix}1\\\\\\sqrt{2}\\\\1\\end{matrix}\\right]\\right ]\\right )\\right ]$$"
      ],
      "text/plain": [
       "⎡⎛0, 1, ⎡⎡-1⎤⎤⎞, ⎛-h̅, 1, ⎡⎡ 1 ⎤⎤⎞, ⎛h̅, 1, ⎡⎡1 ⎤⎤⎞⎤\n",
       "⎢⎜      ⎢⎢  ⎥⎥⎟  ⎜        ⎢⎢   ⎥⎥⎟  ⎜       ⎢⎢  ⎥⎥⎟⎥\n",
       "⎢⎜      ⎢⎢0 ⎥⎥⎟  ⎜        ⎢⎢-√2⎥⎥⎟  ⎜       ⎢⎢√2⎥⎥⎟⎥\n",
       "⎢⎜      ⎢⎢  ⎥⎥⎟  ⎜        ⎢⎢   ⎥⎥⎟  ⎜       ⎢⎢  ⎥⎥⎟⎥\n",
       "⎣⎝      ⎣⎣1 ⎦⎦⎠  ⎝        ⎣⎣ 1 ⎦⎦⎠  ⎝       ⎣⎣1 ⎦⎦⎠⎦"
      ]
     },
     "execution_count": 19,
     "metadata": {},
     "output_type": "execute_result"
    }
   ],
   "source": [
    "eig"
   ]
  }
 ],
 "metadata": {
  "anaconda-cloud": {},
  "kernelspec": {
   "display_name": "Python [conda root]",
   "language": "python",
   "name": "conda-root-py"
  },
  "language_info": {
   "codemirror_mode": {
    "name": "ipython",
    "version": 3
   },
   "file_extension": ".py",
   "mimetype": "text/x-python",
   "name": "python",
   "nbconvert_exporter": "python",
   "pygments_lexer": "ipython3",
   "version": "3.5.2"
  }
 },
 "nbformat": 4,
 "nbformat_minor": 1
}
