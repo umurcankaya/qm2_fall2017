{
 "cells": [
  {
   "cell_type": "markdown",
   "metadata": {},
   "source": [
    "# QM2 PS4.2"
   ]
  },
  {
   "cell_type": "code",
   "execution_count": 1,
   "metadata": {
    "collapsed": true
   },
   "outputs": [],
   "source": [
    "import numpy as np\n",
    "from sympy import Matrix, sqrt, init_printing\n",
    "init_printing(use_unicode=True)"
   ]
  },
  {
   "cell_type": "code",
   "execution_count": 2,
   "metadata": {
    "collapsed": false
   },
   "outputs": [],
   "source": [
    "l = 2\n",
    "L2 = np.diag([6]*(2*l+1))\n",
    "L2 = Matrix(L2)\n",
    "Lz = np.diag([2,1,0,-1,-2])\n",
    "Lz = Matrix(Lz)\n",
    "Lx = Matrix([[0,2,0,0,0]\n",
    "              ,[2,0,sqrt(6),0,0]\n",
    "              ,[0,sqrt(6),0,sqrt(6),0]\n",
    "              ,[0,0,sqrt(6),0,2]\n",
    "              ,[0,0,0,2,0]])\n",
    "Ly = Matrix([[0,2,0,0,0]\n",
    "              ,[-2,0,sqrt(6),0,0]\n",
    "              ,[0,-sqrt(6),0,sqrt(6),0]\n",
    "              ,[0,0,-sqrt(6),0,2]\n",
    "              ,[0,0,0,-2,0]])\n",
    "Lx = Lx * 0.5\n",
    "Ly = Ly * 1j * 0.5"
   ]
  },
  {
   "cell_type": "code",
   "execution_count": 8,
   "metadata": {
    "collapsed": false
   },
   "outputs": [
    {
     "data": {
      "image/png": "[encoded data removed]",
      "text/latex": [
       "$$\\left[\\begin{matrix}6.0 & 0.0 & 0.0 & 0.0 & 0.0\\\\0.0 & 6.0 & 0.0 & 0.0 & 0.0\\\\0.0 & 0.0 & 6.0 & 0.0 & 0.0\\\\0.0 & 0.0 & 0.0 & 6.0 & 0.0\\\\0.0 & 0.0 & 0.0 & 0.0 & 6.0\\end{matrix}\\right]$$"
      ],
      "text/plain": [
       "⎡6.0  0.0  0.0  0.0  0.0⎤\n",
       "⎢                       ⎥\n",
       "⎢0.0  6.0  0.0  0.0  0.0⎥\n",
       "⎢                       ⎥\n",
       "⎢0.0  0.0  6.0  0.0  0.0⎥\n",
       "⎢                       ⎥\n",
       "⎢0.0  0.0  0.0  6.0  0.0⎥\n",
       "⎢                       ⎥\n",
       "⎣0.0  0.0  0.0  0.0  6.0⎦"
      ]
     },
     "execution_count": 8,
     "metadata": {},
     "output_type": "execute_result"
    }
   ],
   "source": [
    "L2"
   ]
  },
  {
   "cell_type": "code",
   "execution_count": 9,
   "metadata": {
    "collapsed": false
   },
   "outputs": [
    {
     "data": {
      "image/png": "[encoded data removed]",
      "text/latex": [
       "$$\\left[\\begin{matrix}2.0 & 0.0 & 0.0 & 0.0 & 0.0\\\\0.0 & 1.0 & 0.0 & 0.0 & 0.0\\\\0.0 & 0.0 & 0.0 & 0.0 & 0.0\\\\0.0 & 0.0 & 0.0 & -1.0 & 0.0\\\\0.0 & 0.0 & 0.0 & 0.0 & -2.0\\end{matrix}\\right]$$"
      ],
      "text/plain": [
       "⎡2.0  0.0  0.0  0.0   0.0 ⎤\n",
       "⎢                         ⎥\n",
       "⎢0.0  1.0  0.0  0.0   0.0 ⎥\n",
       "⎢                         ⎥\n",
       "⎢0.0  0.0  0.0  0.0   0.0 ⎥\n",
       "⎢                         ⎥\n",
       "⎢0.0  0.0  0.0  -1.0  0.0 ⎥\n",
       "⎢                         ⎥\n",
       "⎣0.0  0.0  0.0  0.0   -2.0⎦"
      ]
     },
     "execution_count": 9,
     "metadata": {},
     "output_type": "execute_result"
    }
   ],
   "source": [
    "Lz"
   ]
  },
  {
   "cell_type": "code",
   "execution_count": 10,
   "metadata": {
    "collapsed": false
   },
   "outputs": [
    {
     "data": {
      "image/png": "[encoded data removed]",
      "text/latex": [
       "$$\\left[\\begin{matrix}0 & 1.0 & 0 & 0 & 0\\\\1.0 & 0 & 0.5 \\sqrt{6} & 0 & 0\\\\0 & 0.5 \\sqrt{6} & 0 & 0.5 \\sqrt{6} & 0\\\\0 & 0 & 0.5 \\sqrt{6} & 0 & 1.0\\\\0 & 0 & 0 & 1.0 & 0\\end{matrix}\\right]$$"
      ],
      "text/plain": [
       "⎡ 0    1.0      0       0      0 ⎤\n",
       "⎢                                ⎥\n",
       "⎢1.0    0     0.5⋅√6    0      0 ⎥\n",
       "⎢                                ⎥\n",
       "⎢ 0   0.5⋅√6    0     0.5⋅√6   0 ⎥\n",
       "⎢                                ⎥\n",
       "⎢ 0     0     0.5⋅√6    0     1.0⎥\n",
       "⎢                                ⎥\n",
       "⎣ 0     0       0      1.0     0 ⎦"
      ]
     },
     "execution_count": 10,
     "metadata": {},
     "output_type": "execute_result"
    }
   ],
   "source": [
    "Lx"
   ]
  },
  {
   "cell_type": "code",
   "execution_count": 11,
   "metadata": {
    "collapsed": false
   },
   "outputs": [
    {
     "data": {
      "image/png": "[encoded data removed]",
      "text/latex": [
       "$$\\left[\\begin{matrix}0 & 1.0 i & 0 & 0 & 0\\\\- 1.0 i & 0 & 0.5 \\sqrt{6} i & 0 & 0\\\\0 & - 0.5 \\sqrt{6} i & 0 & 0.5 \\sqrt{6} i & 0\\\\0 & 0 & - 0.5 \\sqrt{6} i & 0 & 1.0 i\\\\0 & 0 & 0 & - 1.0 i & 0\\end{matrix}\\right]$$"
      ],
      "text/plain": [
       "⎡  0       1.0⋅ⅈ        0         0        0  ⎤\n",
       "⎢                                             ⎥\n",
       "⎢-1.0⋅ⅈ      0      0.5⋅√6⋅ⅈ      0        0  ⎥\n",
       "⎢                                             ⎥\n",
       "⎢  0     -0.5⋅√6⋅ⅈ      0      0.5⋅√6⋅ⅈ    0  ⎥\n",
       "⎢                                             ⎥\n",
       "⎢  0         0      -0.5⋅√6⋅ⅈ     0      1.0⋅ⅈ⎥\n",
       "⎢                                             ⎥\n",
       "⎣  0         0          0       -1.0⋅ⅈ     0  ⎦"
      ]
     },
     "execution_count": 11,
     "metadata": {},
     "output_type": "execute_result"
    }
   ],
   "source": [
    "Ly"
   ]
  },
  {
   "cell_type": "code",
   "execution_count": 3,
   "metadata": {
    "collapsed": false
   },
   "outputs": [
    {
     "data": {
      "image/png": "[encoded data removed]",
      "text/latex": [
       "$$\\left [ \\left ( 6.0, \\quad 5, \\quad \\left [ \\left[\\begin{matrix}1.0\\\\0\\\\0\\\\0\\\\0\\end{matrix}\\right], \\quad \\left[\\begin{matrix}0\\\\1.0\\\\0\\\\0\\\\0\\end{matrix}\\right], \\quad \\left[\\begin{matrix}0\\\\0\\\\1.0\\\\0\\\\0\\end{matrix}\\right], \\quad \\left[\\begin{matrix}0\\\\0\\\\0\\\\1.0\\\\0\\end{matrix}\\right], \\quad \\left[\\begin{matrix}0\\\\0\\\\0\\\\0\\\\1.0\\end{matrix}\\right]\\right ]\\right )\\right ]$$"
      ],
      "text/plain": [
       "⎡⎛6.0, 5, ⎡⎡1.0⎤, ⎡ 0 ⎤, ⎡ 0 ⎤, ⎡ 0 ⎤, ⎡ 0 ⎤⎤⎞⎤\n",
       "⎢⎜        ⎢⎢   ⎥  ⎢   ⎥  ⎢   ⎥  ⎢   ⎥  ⎢   ⎥⎥⎟⎥\n",
       "⎢⎜        ⎢⎢ 0 ⎥  ⎢1.0⎥  ⎢ 0 ⎥  ⎢ 0 ⎥  ⎢ 0 ⎥⎥⎟⎥\n",
       "⎢⎜        ⎢⎢   ⎥  ⎢   ⎥  ⎢   ⎥  ⎢   ⎥  ⎢   ⎥⎥⎟⎥\n",
       "⎢⎜        ⎢⎢ 0 ⎥  ⎢ 0 ⎥  ⎢1.0⎥  ⎢ 0 ⎥  ⎢ 0 ⎥⎥⎟⎥\n",
       "⎢⎜        ⎢⎢   ⎥  ⎢   ⎥  ⎢   ⎥  ⎢   ⎥  ⎢   ⎥⎥⎟⎥\n",
       "⎢⎜        ⎢⎢ 0 ⎥  ⎢ 0 ⎥  ⎢ 0 ⎥  ⎢1.0⎥  ⎢ 0 ⎥⎥⎟⎥\n",
       "⎢⎜        ⎢⎢   ⎥  ⎢   ⎥  ⎢   ⎥  ⎢   ⎥  ⎢   ⎥⎥⎟⎥\n",
       "⎣⎝        ⎣⎣ 0 ⎦  ⎣ 0 ⎦  ⎣ 0 ⎦  ⎣ 0 ⎦  ⎣1.0⎦⎦⎠⎦"
      ]
     },
     "execution_count": 3,
     "metadata": {},
     "output_type": "execute_result"
    }
   ],
   "source": [
    "L2.eigenvects()"
   ]
  },
  {
   "cell_type": "code",
   "execution_count": 4,
   "metadata": {
    "collapsed": false
   },
   "outputs": [
    {
     "data": {
      "image/png": "[encoded data removed]",
      "text/latex": [
       "$$\\left [ \\left ( -2.0, \\quad 1, \\quad \\left [ \\left[\\begin{matrix}0\\\\0\\\\0\\\\0\\\\1.0\\end{matrix}\\right]\\right ]\\right ), \\quad \\left ( -1.0, \\quad 1, \\quad \\left [ \\left[\\begin{matrix}0\\\\0\\\\0\\\\1.0\\\\0\\end{matrix}\\right]\\right ]\\right ), \\quad \\left ( 0, \\quad 1, \\quad \\left [ \\left[\\begin{matrix}0\\\\0\\\\1.0\\\\0\\\\0\\end{matrix}\\right]\\right ]\\right ), \\quad \\left ( 1.0, \\quad 1, \\quad \\left [ \\left[\\begin{matrix}0\\\\1.0\\\\0\\\\0\\\\0\\end{matrix}\\right]\\right ]\\right ), \\quad \\left ( 2.0, \\quad 1, \\quad \\left [ \\left[\\begin{matrix}1.0\\\\0\\\\0\\\\0\\\\0\\end{matrix}\\right]\\right ]\\right )\\right ]$$"
      ],
      "text/plain": [
       "⎡⎛-2.0, 1, ⎡⎡ 0 ⎤⎤⎞, ⎛-1.0, 1, ⎡⎡ 0 ⎤⎤⎞, ⎛0, 1, ⎡⎡ 0 ⎤⎤⎞, ⎛1.0, 1, ⎡⎡ 0 ⎤⎤⎞, ⎛\n",
       "⎢⎜         ⎢⎢   ⎥⎥⎟  ⎜         ⎢⎢   ⎥⎥⎟  ⎜      ⎢⎢   ⎥⎥⎟  ⎜        ⎢⎢   ⎥⎥⎟  ⎜\n",
       "⎢⎜         ⎢⎢ 0 ⎥⎥⎟  ⎜         ⎢⎢ 0 ⎥⎥⎟  ⎜      ⎢⎢ 0 ⎥⎥⎟  ⎜        ⎢⎢1.0⎥⎥⎟  ⎜\n",
       "⎢⎜         ⎢⎢   ⎥⎥⎟  ⎜         ⎢⎢   ⎥⎥⎟  ⎜      ⎢⎢   ⎥⎥⎟  ⎜        ⎢⎢   ⎥⎥⎟  ⎜\n",
       "⎢⎜         ⎢⎢ 0 ⎥⎥⎟  ⎜         ⎢⎢ 0 ⎥⎥⎟  ⎜      ⎢⎢1.0⎥⎥⎟  ⎜        ⎢⎢ 0 ⎥⎥⎟  ⎜\n",
       "⎢⎜         ⎢⎢   ⎥⎥⎟  ⎜         ⎢⎢   ⎥⎥⎟  ⎜      ⎢⎢   ⎥⎥⎟  ⎜        ⎢⎢   ⎥⎥⎟  ⎜\n",
       "⎢⎜         ⎢⎢ 0 ⎥⎥⎟  ⎜         ⎢⎢1.0⎥⎥⎟  ⎜      ⎢⎢ 0 ⎥⎥⎟  ⎜        ⎢⎢ 0 ⎥⎥⎟  ⎜\n",
       "⎢⎜         ⎢⎢   ⎥⎥⎟  ⎜         ⎢⎢   ⎥⎥⎟  ⎜      ⎢⎢   ⎥⎥⎟  ⎜        ⎢⎢   ⎥⎥⎟  ⎜\n",
       "⎣⎝         ⎣⎣1.0⎦⎦⎠  ⎝         ⎣⎣ 0 ⎦⎦⎠  ⎝      ⎣⎣ 0 ⎦⎦⎠  ⎝        ⎣⎣ 0 ⎦⎦⎠  ⎝\n",
       "\n",
       "2.0, 1, ⎡⎡1.0⎤⎤⎞⎤\n",
       "        ⎢⎢   ⎥⎥⎟⎥\n",
       "        ⎢⎢ 0 ⎥⎥⎟⎥\n",
       "        ⎢⎢   ⎥⎥⎟⎥\n",
       "        ⎢⎢ 0 ⎥⎥⎟⎥\n",
       "        ⎢⎢   ⎥⎥⎟⎥\n",
       "        ⎢⎢ 0 ⎥⎥⎟⎥\n",
       "        ⎢⎢   ⎥⎥⎟⎥\n",
       "        ⎣⎣ 0 ⎦⎦⎠⎦"
      ]
     },
     "execution_count": 4,
     "metadata": {},
     "output_type": "execute_result"
    }
   ],
   "source": [
    "Lz.eigenvects()"
   ]
  },
  {
   "cell_type": "code",
   "execution_count": 5,
   "metadata": {
    "collapsed": false,
    "scrolled": true
   },
   "outputs": [
    {
     "data": {
      "image/png": "[encoded data removed]",
      "text/latex": [
       "$$\\left [ \\left ( -2.0, \\quad 1, \\quad \\left [ \\left[\\begin{matrix}1.0\\\\-2.0\\\\2.44948974278318\\\\-2.0\\\\1.0\\end{matrix}\\right]\\right ]\\right ), \\quad \\left ( -1.0, \\quad 1, \\quad \\left [ \\left[\\begin{matrix}-1.0\\\\1.0\\\\0\\\\-1.0\\\\1.0\\end{matrix}\\right]\\right ]\\right ), \\quad \\left ( 0, \\quad 1, \\quad \\left [ \\left[\\begin{matrix}1.0\\\\0\\\\-0.816496580927726\\\\0\\\\1.0\\end{matrix}\\right]\\right ]\\right ), \\quad \\left ( 1.0, \\quad 1, \\quad \\left [ \\left[\\begin{matrix}-1.0\\\\-1.0\\\\0\\\\1.0\\\\1.0\\end{matrix}\\right]\\right ]\\right ), \\quad \\left ( 2.0, \\quad 1, \\quad \\left [ \\left[\\begin{matrix}1.0\\\\2.0\\\\2.44948974278318\\\\2.0\\\\1.0\\end{matrix}\\right]\\right ]\\right )\\right ]$$"
      ],
      "text/plain": [
       "⎡⎛-2.0, 1, ⎡⎡      1.0       ⎤⎤⎞, ⎛-1.0, 1, ⎡⎡-1.0⎤⎤⎞, ⎛0, 1, ⎡⎡       1.0    \n",
       "⎢⎜         ⎢⎢                ⎥⎥⎟  ⎜         ⎢⎢    ⎥⎥⎟  ⎜      ⎢⎢              \n",
       "⎢⎜         ⎢⎢      -2.0      ⎥⎥⎟  ⎜         ⎢⎢1.0 ⎥⎥⎟  ⎜      ⎢⎢        0     \n",
       "⎢⎜         ⎢⎢                ⎥⎥⎟  ⎜         ⎢⎢    ⎥⎥⎟  ⎜      ⎢⎢              \n",
       "⎢⎜         ⎢⎢2.44948974278318⎥⎥⎟  ⎜         ⎢⎢ 0  ⎥⎥⎟  ⎜      ⎢⎢-0.81649658092\n",
       "⎢⎜         ⎢⎢                ⎥⎥⎟  ⎜         ⎢⎢    ⎥⎥⎟  ⎜      ⎢⎢              \n",
       "⎢⎜         ⎢⎢      -2.0      ⎥⎥⎟  ⎜         ⎢⎢-1.0⎥⎥⎟  ⎜      ⎢⎢        0     \n",
       "⎢⎜         ⎢⎢                ⎥⎥⎟  ⎜         ⎢⎢    ⎥⎥⎟  ⎜      ⎢⎢              \n",
       "⎣⎝         ⎣⎣      1.0       ⎦⎦⎠  ⎝         ⎣⎣1.0 ⎦⎦⎠  ⎝      ⎣⎣       1.0    \n",
       "\n",
       "    ⎤⎤⎞, ⎛1.0, 1, ⎡⎡-1.0⎤⎤⎞, ⎛2.0, 1, ⎡⎡      1.0       ⎤⎤⎞⎤\n",
       "    ⎥⎥⎟  ⎜        ⎢⎢    ⎥⎥⎟  ⎜        ⎢⎢                ⎥⎥⎟⎥\n",
       "    ⎥⎥⎟  ⎜        ⎢⎢-1.0⎥⎥⎟  ⎜        ⎢⎢      2.0       ⎥⎥⎟⎥\n",
       "    ⎥⎥⎟  ⎜        ⎢⎢    ⎥⎥⎟  ⎜        ⎢⎢                ⎥⎥⎟⎥\n",
       "7726⎥⎥⎟  ⎜        ⎢⎢ 0  ⎥⎥⎟  ⎜        ⎢⎢2.44948974278318⎥⎥⎟⎥\n",
       "    ⎥⎥⎟  ⎜        ⎢⎢    ⎥⎥⎟  ⎜        ⎢⎢                ⎥⎥⎟⎥\n",
       "    ⎥⎥⎟  ⎜        ⎢⎢1.0 ⎥⎥⎟  ⎜        ⎢⎢      2.0       ⎥⎥⎟⎥\n",
       "    ⎥⎥⎟  ⎜        ⎢⎢    ⎥⎥⎟  ⎜        ⎢⎢                ⎥⎥⎟⎥\n",
       "    ⎦⎦⎠  ⎝        ⎣⎣1.0 ⎦⎦⎠  ⎝        ⎣⎣      1.0       ⎦⎦⎠⎦"
      ]
     },
     "execution_count": 5,
     "metadata": {},
     "output_type": "execute_result"
    }
   ],
   "source": [
    "Lx.eigenvects()"
   ]
  },
  {
   "cell_type": "code",
   "execution_count": 6,
   "metadata": {
    "collapsed": false
   },
   "outputs": [
    {
     "data": {
      "image/png": "[encoded data removed]",
      "text/latex": [
       "$$\\left [ \\left ( -2.0, \\quad 1, \\quad \\left [ \\left[\\begin{matrix}1.0\\\\2.0 i\\\\-2.44948974278318\\\\- 2.0 i\\\\1.0\\end{matrix}\\right]\\right ]\\right ), \\quad \\left ( -1.0, \\quad 1, \\quad \\left [ \\left[\\begin{matrix}-1.0\\\\- 1.0 i\\\\0\\\\- 1.0 i\\\\1.0\\end{matrix}\\right]\\right ]\\right ), \\quad \\left ( 0, \\quad 1, \\quad \\left [ \\left[\\begin{matrix}1.0\\\\0\\\\0.816496580927726\\\\0\\\\1.0\\end{matrix}\\right]\\right ]\\right ), \\quad \\left ( 1.0, \\quad 1, \\quad \\left [ \\left[\\begin{matrix}-1.0\\\\1.0 i\\\\0\\\\1.0 i\\\\1.0\\end{matrix}\\right]\\right ]\\right ), \\quad \\left ( 2.0, \\quad 1, \\quad \\left [ \\left[\\begin{matrix}1.0\\\\- 2.0 i\\\\-2.44948974278318\\\\2.0 i\\\\1.0\\end{matrix}\\right]\\right ]\\right )\\right ]$$"
      ],
      "text/plain": [
       "⎡⎛-2.0, 1, ⎡⎡       1.0       ⎤⎤⎞, ⎛-1.0, 1, ⎡⎡ -1.0 ⎤⎤⎞, ⎛0, 1, ⎡⎡       1.0 \n",
       "⎢⎜         ⎢⎢                 ⎥⎥⎟  ⎜         ⎢⎢      ⎥⎥⎟  ⎜      ⎢⎢           \n",
       "⎢⎜         ⎢⎢      2.0⋅ⅈ      ⎥⎥⎟  ⎜         ⎢⎢-1.0⋅ⅈ⎥⎥⎟  ⎜      ⎢⎢        0  \n",
       "⎢⎜         ⎢⎢                 ⎥⎥⎟  ⎜         ⎢⎢      ⎥⎥⎟  ⎜      ⎢⎢           \n",
       "⎢⎜         ⎢⎢-2.44948974278318⎥⎥⎟  ⎜         ⎢⎢  0   ⎥⎥⎟  ⎜      ⎢⎢0.816496580\n",
       "⎢⎜         ⎢⎢                 ⎥⎥⎟  ⎜         ⎢⎢      ⎥⎥⎟  ⎜      ⎢⎢           \n",
       "⎢⎜         ⎢⎢     -2.0⋅ⅈ      ⎥⎥⎟  ⎜         ⎢⎢-1.0⋅ⅈ⎥⎥⎟  ⎜      ⎢⎢        0  \n",
       "⎢⎜         ⎢⎢                 ⎥⎥⎟  ⎜         ⎢⎢      ⎥⎥⎟  ⎜      ⎢⎢           \n",
       "⎣⎝         ⎣⎣       1.0       ⎦⎦⎠  ⎝         ⎣⎣ 1.0  ⎦⎦⎠  ⎝      ⎣⎣       1.0 \n",
       "\n",
       "      ⎤⎤⎞, ⎛1.0, 1, ⎡⎡-1.0 ⎤⎤⎞, ⎛2.0, 1, ⎡⎡       1.0       ⎤⎤⎞⎤\n",
       "      ⎥⎥⎟  ⎜        ⎢⎢     ⎥⎥⎟  ⎜        ⎢⎢                 ⎥⎥⎟⎥\n",
       "      ⎥⎥⎟  ⎜        ⎢⎢1.0⋅ⅈ⎥⎥⎟  ⎜        ⎢⎢     -2.0⋅ⅈ      ⎥⎥⎟⎥\n",
       "      ⎥⎥⎟  ⎜        ⎢⎢     ⎥⎥⎟  ⎜        ⎢⎢                 ⎥⎥⎟⎥\n",
       "927726⎥⎥⎟  ⎜        ⎢⎢  0  ⎥⎥⎟  ⎜        ⎢⎢-2.44948974278318⎥⎥⎟⎥\n",
       "      ⎥⎥⎟  ⎜        ⎢⎢     ⎥⎥⎟  ⎜        ⎢⎢                 ⎥⎥⎟⎥\n",
       "      ⎥⎥⎟  ⎜        ⎢⎢1.0⋅ⅈ⎥⎥⎟  ⎜        ⎢⎢      2.0⋅ⅈ      ⎥⎥⎟⎥\n",
       "      ⎥⎥⎟  ⎜        ⎢⎢     ⎥⎥⎟  ⎜        ⎢⎢                 ⎥⎥⎟⎥\n",
       "      ⎦⎦⎠  ⎝        ⎣⎣ 1.0 ⎦⎦⎠  ⎝        ⎣⎣       1.0       ⎦⎦⎠⎦"
      ]
     },
     "execution_count": 6,
     "metadata": {},
     "output_type": "execute_result"
    }
   ],
   "source": [
    "Ly.eigenvects()"
   ]
  },
  {
   "cell_type": "markdown",
   "metadata": {},
   "source": [
    "# QM2 PS4.3"
   ]
  },
  {
   "cell_type": "code",
   "execution_count": 7,
   "metadata": {
    "collapsed": true
   },
   "outputs": [],
   "source": [
    "Lx = np.array([[0, 1, 0]\n",
    "              ,[1, 0, 1]\n",
    "              ,[0, 1, 0]])\n",
    "Lx = Lx * 1/np.sqrt(2)\n",
    "\n",
    "psi = np.array([[1],[1j],[-2]])"
   ]
  },
  {
   "cell_type": "code",
   "execution_count": 8,
   "metadata": {
    "collapsed": false
   },
   "outputs": [
    {
     "data": {
      "text/plain": [
       "array([[ 0.40824829+0.j        ],\n",
       "       [ 0.00000000+0.40824829j],\n",
       "       [-0.81649658+0.j        ]])"
      ]
     },
     "execution_count": 8,
     "metadata": {},
     "output_type": "execute_result"
    }
   ],
   "source": [
    "A = np.sqrt(np.dot(np.conj(psi.T),psi))\n",
    "psi = 1/A * psi\n",
    "psi"
   ]
  },
  {
   "cell_type": "code",
   "execution_count": 9,
   "metadata": {
    "collapsed": false
   },
   "outputs": [],
   "source": [
    "u, v = np.linalg.eig(Lx)\n",
    "\n",
    "v1 = v[:,2]\n",
    "v0 = v[:,1]\n",
    "v_1 = v[:,0]"
   ]
  },
  {
   "cell_type": "code",
   "execution_count": 10,
   "metadata": {
    "collapsed": false
   },
   "outputs": [
    {
     "data": {
      "text/plain": [
       "array([ 0.125])"
      ]
     },
     "execution_count": 10,
     "metadata": {},
     "output_type": "execute_result"
    }
   ],
   "source": [
    "p1 = abs(np.dot(np.conj(v1.T),psi))**2\n",
    "p1"
   ]
  },
  {
   "cell_type": "code",
   "execution_count": 11,
   "metadata": {
    "collapsed": false
   },
   "outputs": [
    {
     "data": {
      "text/plain": [
       "array([ 0.75])"
      ]
     },
     "execution_count": 11,
     "metadata": {},
     "output_type": "execute_result"
    }
   ],
   "source": [
    "p0 = abs(np.dot(np.conj(v0.T),psi))**2\n",
    "p0"
   ]
  },
  {
   "cell_type": "code",
   "execution_count": 12,
   "metadata": {
    "collapsed": false
   },
   "outputs": [
    {
     "data": {
      "text/plain": [
       "array([ 0.125])"
      ]
     },
     "execution_count": 12,
     "metadata": {},
     "output_type": "execute_result"
    }
   ],
   "source": [
    "p_1 = abs(np.dot(np.conj(v_1.T),psi))**2\n",
    "p_1"
   ]
  },
  {
   "cell_type": "code",
   "execution_count": 13,
   "metadata": {
    "collapsed": false
   },
   "outputs": [
    {
     "data": {
      "text/plain": [
       "array([ 0.5       ,  0.70710678,  0.5       ])"
      ]
     },
     "execution_count": 13,
     "metadata": {},
     "output_type": "execute_result"
    }
   ],
   "source": [
    "v1"
   ]
  },
  {
   "cell_type": "code",
   "execution_count": 14,
   "metadata": {
    "collapsed": false
   },
   "outputs": [
    {
     "data": {
      "text/plain": [
       "array([  7.07106781e-01,   8.92833876e-17,  -7.07106781e-01])"
      ]
     },
     "execution_count": 14,
     "metadata": {},
     "output_type": "execute_result"
    }
   ],
   "source": [
    "v0"
   ]
  },
  {
   "cell_type": "code",
   "execution_count": 15,
   "metadata": {
    "collapsed": false
   },
   "outputs": [
    {
     "data": {
      "text/plain": [
       "array([ 0.5       , -0.70710678,  0.5       ])"
      ]
     },
     "execution_count": 15,
     "metadata": {},
     "output_type": "execute_result"
    }
   ],
   "source": [
    "v_1"
   ]
  },
  {
   "cell_type": "code",
   "execution_count": null,
   "metadata": {
    "collapsed": true
   },
   "outputs": [],
   "source": []
  }
 ],
 "metadata": {
  "anaconda-cloud": {},
  "kernelspec": {
   "display_name": "Python [conda root]",
   "language": "python",
   "name": "conda-root-py"
  },
  "language_info": {
   "codemirror_mode": {
    "name": "ipython",
    "version": 3
   },
   "file_extension": ".py",
   "mimetype": "text/x-python",
   "name": "python",
   "nbconvert_exporter": "python",
   "pygments_lexer": "ipython3",
   "version": "3.5.2"
  }
 },
 "nbformat": 4,
 "nbformat_minor": 1
}
